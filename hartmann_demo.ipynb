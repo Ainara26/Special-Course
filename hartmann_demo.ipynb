{
 "cells": [
  {
   "cell_type": "markdown",
   "id": "b06c5ffa",
   "metadata": {
    "jupyter": {
     "source_hidden": false
    }
   },
   "source": [
    "# Choosing culture media using Bayesian optimisation"
   ]
  },
  {
   "cell_type": "code",
   "execution_count": 1,
   "id": "627a321a",
   "metadata": {
    "collapsed": false,
    "jupyter": {
     "outputs_hidden": false,
     "source_hidden": false
    }
   },
   "outputs": [
    {
     "name": "stderr",
     "output_type": "stream",
     "text": [
      "/Users/tedgro/repos/ljm176/BayesianMediaOpt/.venv/lib/python3.12/site-packages/tqdm/auto.py:21: TqdmWarning: IProgress not found. Please update jupyter and ipywidgets. See https://ipywidgets.readthedocs.io/en/stable/user_install.html\n",
      "  from .autonotebook import tqdm as notebook_tqdm\n"
     ]
    }
   ],
   "source": [
    "import pandas as pd\n",
    "import torch\n",
    "from botorch.test_functions.synthetic import Hartmann\n",
    "from botorch.utils.sampling import draw_sobol_samples\n",
    "from matplotlib import pyplot as plt\n",
    "from tqdm import tqdm\n",
    "import numpy as np\n",
    "\n",
    "from src.mediabo.optimisation import get_next_batch_of_designs"
   ]
  },
  {
   "cell_type": "markdown",
   "id": "6cf7e1a5",
   "metadata": {
    "jupyter": {
     "source_hidden": false
    }
   },
   "source": [
    "This notebook demonstrates how to choose fermentation media using Bayesian optimisation.\n",
    "\n",
    "## Motivation\n",
    "\n",
    "Imagine the following situation. There we have to choose a combination of 6 medium components, say FeSO4, K2HPO4, NH4Cl, CaCl2, NaCl and Na2SO4.\n",
    "\n",
    "Each componment can be put into a tube with a concentration between 0 and 1 arbitrary units. There are no interacting constraints, so the design space is the 6-dimensional [0, 1] hypercube.\n",
    "\n",
    "To choose a good mixture, we can run fermentation experiments in batches of 12. Once each experiment is done, we measure the growth, yield etc and come up with a KPI that quantifies how good the mixture was.\n",
    "\n",
    "Unfortunately, our design space is rather large: a grid search with 20 points on each dimension would require 20^6 = 64000000 experiments. That sounds like a lot of work!\n",
    "\n",
    "## Bayesian optimisation\n",
    "\n",
    "Fortunately we can avoid doing so many experiments by searching in a smart way and making some assumptions. \n",
    "\n",
    "Bayesian optimisation is a nice framework for doing this.\n",
    "\n",
    "Bayesian optimisation combines two main components: a **surrogate model** that contains some assumptions about the relationship bewtween our designs and the KPI, and an **acquisition function** that formalises how to use experimental information to make decisions.\n",
    "\n",
    "Bayesian optimisation is Bayesian because it uses surrogate models and acquisition functions that come with probabilities attached. For example, a Bayesian surrogate model might say that the probabilities of designs A and B scoring above 2.3 are 50% and 20% respectively. A Bayesian acquisition function might say to choose the available design with the highest probability of such a score (so design A it is!).\n",
    "\n",
    "There is a rich and growing literature that explores various surrogate models and acquisition functions and ways of using them: to get started just try searching \"Bayesian Optimisation\". There is also a good amount of software implementing Bayesian optimisation, as it has lots of applications that are interesting to software companies.\n",
    "\n",
    "In particular, the company Meta developed an open-source library called [botorch](https://botorch.org/) which we will use here.\n",
    "\n",
    "## Gaussian Process Regression: a popular surrogate model\n",
    "\n",
    "Since we were initially considering doing a grid search over all possible design choices, it's clear that we aren't that sure about which design is the best. We probably also think that our design choices don't affect our KPI linearly: most likely there is a sweet spot somewhere in design space that is just right, and it may well be surrounded in all directions by worse zones.\n",
    "\n",
    "These considerations mean that we want a surrogate model that doesn't include any assumptions about which design is best, and which doesn't assume that the relationship between designs and KPIs is linear, monotonic or even that it has a particular parametric form.\n",
    "\n",
    "Gaussian process regression allows us to avoid making these assumptions while still allowing us to extract some information from whatever experimental results we have available.\n",
    "\n",
    "A Gaussian process is a real-valued function such that any possible set of n realisations is related by an n-dimensional multivariate Gaussian distribution. Using Gaussian process regression (and some assumptions about exactly what kind of multivariate Gaussian distribution we are dealing with) we can make inferences about which Gaussian processes best agree with a given set of data points. Gaussian process regression is a great choice for non-parametric regression problems just like ours. In fact, Gaussian process regression is the de facto default choice of surrogate model in most Bayesian optimisation settings.\n",
    "\n",
    " ## Framing our problem as Bayesian optimisation\n",
    " \n",
    " Our medium optimisation problem is a pretty textbook case of Bayesian optimisation, but there are a couple of interesting non-standard details.\n",
    " \n",
    " First, our design space is bounded, as there is a maximum and minimum value for each medium component.\n",
    " \n",
    " Second, we can't do sequential experiments, but instead have to carry out experiments in batches. Our decision problem therefore isn't to choose the best experiment to do next, but rather to choose the best batch of experiments.\n",
    " \n",
    " Luckily, botorch accommodates both of these peculiarities.\n",
    " \n",
    " As a surrogate model we can use botorch's default SingleTaskGP Gaussian process regression model. The details of this model are spelled out [here](https://github.com/pytorch/botorch/discussions/2451). Essentially it assumes that nearby obervations are likely to be close to each other (i.e. our Gaussian process is locally smooth), with the extent of the smoothness controlled by a parameterised [Radial Basis Function kernel](https://en.wikipedia.org/wiki/Radial_basis_function_kernel). The model uses hyperparameters chosen to target design spaces in the unit cube, just like ours.\n",
    " \n",
    " As an acquisition function, we can use botorch's [qLogExpectedImprovement](https://botorch.org/api/_modules/botorch/acquisition/logei.html#qLogExpectedImprovement). This function considers all possible batches of designs and the fitted surrogate model, estimating the probability of each batch including an improvement over the previous best design, and the likely extent of any improvements. It chooses a batch with maximal expected log-scale improvement. This acquisition function requires monte carlo sampling and is therefore a little costly.\n",
    " "
   ]
  },
  {
   "cell_type": "markdown",
   "id": "0a97976b",
   "metadata": {
    "jupyter": {
     "source_hidden": false
    }
   },
   "source": [
    "## Python implementation\n",
    "\n",
    "I wrote a function called `get_next_batch_of_designs` that does what we need.\n",
    "\n",
    "Here it is"
   ]
  },
  {
   "cell_type": "code",
   "execution_count": 2,
   "id": "241c1961",
   "metadata": {
    "collapsed": false,
    "jupyter": {
     "outputs_hidden": false,
     "source_hidden": false
    }
   },
   "outputs": [
    {
     "data": {
      "text/plain": [
       "\u001b[0;31mSignature:\u001b[0m\n",
       "\u001b[0mget_next_batch_of_designs\u001b[0m\u001b[0;34m(\u001b[0m\u001b[0;34m\u001b[0m\n",
       "\u001b[0;34m\u001b[0m    \u001b[0mx\u001b[0m\u001b[0;34m:\u001b[0m \u001b[0mtorch\u001b[0m\u001b[0;34m.\u001b[0m\u001b[0mTensor\u001b[0m\u001b[0;34m,\u001b[0m\u001b[0;34m\u001b[0m\n",
       "\u001b[0;34m\u001b[0m    \u001b[0my\u001b[0m\u001b[0;34m:\u001b[0m \u001b[0mtorch\u001b[0m\u001b[0;34m.\u001b[0m\u001b[0mTensor\u001b[0m\u001b[0;34m,\u001b[0m\u001b[0;34m\u001b[0m\n",
       "\u001b[0;34m\u001b[0m    \u001b[0mbounds\u001b[0m\u001b[0;34m:\u001b[0m \u001b[0mtorch\u001b[0m\u001b[0;34m.\u001b[0m\u001b[0mTensor\u001b[0m \u001b[0;34m|\u001b[0m \u001b[0mlist\u001b[0m\u001b[0;34m[\u001b[0m\u001b[0mlist\u001b[0m\u001b[0;34m[\u001b[0m\u001b[0mfloat\u001b[0m\u001b[0;34m]\u001b[0m\u001b[0;34m]\u001b[0m\u001b[0;34m,\u001b[0m\u001b[0;34m\u001b[0m\n",
       "\u001b[0;34m\u001b[0m    \u001b[0mq\u001b[0m\u001b[0;34m:\u001b[0m \u001b[0mint\u001b[0m\u001b[0;34m,\u001b[0m\u001b[0;34m\u001b[0m\n",
       "\u001b[0;34m\u001b[0m    \u001b[0mseed\u001b[0m\u001b[0;34m:\u001b[0m \u001b[0mint\u001b[0m \u001b[0;34m|\u001b[0m \u001b[0;32mNone\u001b[0m \u001b[0;34m=\u001b[0m \u001b[0;32mNone\u001b[0m\u001b[0;34m,\u001b[0m\u001b[0;34m\u001b[0m\n",
       "\u001b[0;34m\u001b[0m\u001b[0;34m)\u001b[0m \u001b[0;34m->\u001b[0m \u001b[0mtuple\u001b[0m\u001b[0;34m[\u001b[0m\u001b[0mtorch\u001b[0m\u001b[0;34m.\u001b[0m\u001b[0mTensor\u001b[0m\u001b[0;34m,\u001b[0m \u001b[0mfloat\u001b[0m\u001b[0;34m]\u001b[0m\u001b[0;34m\u001b[0m\u001b[0;34m\u001b[0m\u001b[0m\n",
       "\u001b[0;31mSource:\u001b[0m   \n",
       "\u001b[0;32mdef\u001b[0m \u001b[0mget_next_batch_of_designs\u001b[0m\u001b[0;34m(\u001b[0m\u001b[0;34m\u001b[0m\n",
       "\u001b[0;34m\u001b[0m    \u001b[0mx\u001b[0m\u001b[0;34m:\u001b[0m \u001b[0mtorch\u001b[0m\u001b[0;34m.\u001b[0m\u001b[0mTensor\u001b[0m\u001b[0;34m,\u001b[0m\u001b[0;34m\u001b[0m\n",
       "\u001b[0;34m\u001b[0m    \u001b[0my\u001b[0m\u001b[0;34m:\u001b[0m \u001b[0mtorch\u001b[0m\u001b[0;34m.\u001b[0m\u001b[0mTensor\u001b[0m\u001b[0;34m,\u001b[0m\u001b[0;34m\u001b[0m\n",
       "\u001b[0;34m\u001b[0m    \u001b[0mbounds\u001b[0m\u001b[0;34m:\u001b[0m \u001b[0mtorch\u001b[0m\u001b[0;34m.\u001b[0m\u001b[0mTensor\u001b[0m \u001b[0;34m|\u001b[0m \u001b[0mlist\u001b[0m\u001b[0;34m[\u001b[0m\u001b[0mlist\u001b[0m\u001b[0;34m[\u001b[0m\u001b[0mfloat\u001b[0m\u001b[0;34m]\u001b[0m\u001b[0;34m]\u001b[0m\u001b[0;34m,\u001b[0m\u001b[0;34m\u001b[0m\n",
       "\u001b[0;34m\u001b[0m    \u001b[0mq\u001b[0m\u001b[0;34m:\u001b[0m \u001b[0mint\u001b[0m\u001b[0;34m,\u001b[0m\u001b[0;34m\u001b[0m\n",
       "\u001b[0;34m\u001b[0m    \u001b[0mseed\u001b[0m\u001b[0;34m:\u001b[0m \u001b[0mint\u001b[0m \u001b[0;34m|\u001b[0m \u001b[0;32mNone\u001b[0m \u001b[0;34m=\u001b[0m \u001b[0;32mNone\u001b[0m\u001b[0;34m,\u001b[0m\u001b[0;34m\u001b[0m\n",
       "\u001b[0;34m\u001b[0m\u001b[0;34m)\u001b[0m \u001b[0;34m->\u001b[0m \u001b[0mtuple\u001b[0m\u001b[0;34m[\u001b[0m\u001b[0mtorch\u001b[0m\u001b[0;34m.\u001b[0m\u001b[0mTensor\u001b[0m\u001b[0;34m,\u001b[0m \u001b[0mfloat\u001b[0m\u001b[0;34m]\u001b[0m\u001b[0;34m:\u001b[0m\u001b[0;34m\u001b[0m\n",
       "\u001b[0;34m\u001b[0m    \u001b[0;34m\"\"\"Get a batch of new designs that optimises log expected improvement.\u001b[0m\n",
       "\u001b[0;34m\u001b[0m\n",
       "\u001b[0;34m    This is assuming a SingleTaskGP as surrogate model.\u001b[0m\n",
       "\u001b[0;34m\u001b[0m\n",
       "\u001b[0;34m    :param x: Tensor with shape N x d, where N is the number of training observations and d is the dimensionality of the design space. For example, if 2 designs have been tested and each design has 6 dimensions, then x has shape 2 x 6.\u001b[0m\n",
       "\u001b[0;34m\u001b[0m\n",
       "\u001b[0;34m    :param y: Tensor with shape N x 1. The values represent measured kpi values.\u001b[0m\n",
       "\u001b[0;34m\u001b[0m\n",
       "\u001b[0;34m    :param bounds: Tensor or list with shape 2 x d. The values represent the minimum and maximum of each design dimension.\u001b[0m\n",
       "\u001b[0;34m\u001b[0m\n",
       "\u001b[0;34m    :q: size of the batch of new designs that will be generated.\u001b[0m\n",
       "\u001b[0;34m\u001b[0m\n",
       "\u001b[0;34m    :return: A 2-tuple whose first member is a tensor with shape q x d, representing what the optimiser thinks is the best possible q-sized batch of d-sized designs. The second member is a float representing (on log scale) how good the optimiser expects this batch of designs to be.\u001b[0m\n",
       "\u001b[0;34m    \"\"\"\u001b[0m\u001b[0;34m\u001b[0m\n",
       "\u001b[0;34m\u001b[0m    \u001b[0;32mif\u001b[0m \u001b[0mseed\u001b[0m \u001b[0;32mis\u001b[0m \u001b[0;32mnot\u001b[0m \u001b[0;32mNone\u001b[0m\u001b[0;34m:\u001b[0m\u001b[0;34m\u001b[0m\n",
       "\u001b[0;34m\u001b[0m        \u001b[0mtorch\u001b[0m\u001b[0;34m.\u001b[0m\u001b[0mmanual_seed\u001b[0m\u001b[0;34m(\u001b[0m\u001b[0mseed\u001b[0m\u001b[0;34m=\u001b[0m\u001b[0mseed\u001b[0m\u001b[0;34m)\u001b[0m\u001b[0;34m\u001b[0m\n",
       "\u001b[0;34m\u001b[0m    \u001b[0mbounds_t\u001b[0m \u001b[0;34m=\u001b[0m \u001b[0mtorch\u001b[0m\u001b[0;34m.\u001b[0m\u001b[0mTensor\u001b[0m\u001b[0;34m(\u001b[0m\u001b[0mbounds\u001b[0m\u001b[0;34m)\u001b[0m\u001b[0;34m\u001b[0m\n",
       "\u001b[0;34m\u001b[0m    \u001b[0mgp_model\u001b[0m \u001b[0;34m=\u001b[0m \u001b[0mSingleTaskGP\u001b[0m\u001b[0;34m(\u001b[0m\u001b[0;34m\u001b[0m\n",
       "\u001b[0;34m\u001b[0m        \u001b[0mtrain_X\u001b[0m\u001b[0;34m=\u001b[0m\u001b[0mx\u001b[0m\u001b[0;34m,\u001b[0m\u001b[0;34m\u001b[0m\n",
       "\u001b[0;34m\u001b[0m        \u001b[0mtrain_Y\u001b[0m\u001b[0;34m=\u001b[0m\u001b[0my\u001b[0m\u001b[0;34m,\u001b[0m\u001b[0;34m\u001b[0m\n",
       "\u001b[0;34m\u001b[0m        \u001b[0minput_transform\u001b[0m\u001b[0;34m=\u001b[0m\u001b[0mNormalize\u001b[0m\u001b[0;34m(\u001b[0m\u001b[0md\u001b[0m\u001b[0;34m=\u001b[0m\u001b[0mx\u001b[0m\u001b[0;34m.\u001b[0m\u001b[0mshape\u001b[0m\u001b[0;34m[\u001b[0m\u001b[0;36m1\u001b[0m\u001b[0;34m]\u001b[0m\u001b[0;34m)\u001b[0m\u001b[0;34m,\u001b[0m\u001b[0;34m\u001b[0m\n",
       "\u001b[0;34m\u001b[0m        \u001b[0moutcome_transform\u001b[0m\u001b[0;34m=\u001b[0m\u001b[0mStandardize\u001b[0m\u001b[0;34m(\u001b[0m\u001b[0mm\u001b[0m\u001b[0;34m=\u001b[0m\u001b[0;36m1\u001b[0m\u001b[0;34m)\u001b[0m\u001b[0;34m,\u001b[0m\u001b[0;34m\u001b[0m\n",
       "\u001b[0;34m\u001b[0m    \u001b[0;34m)\u001b[0m\u001b[0;34m\u001b[0m\n",
       "\u001b[0;34m\u001b[0m    \u001b[0mmll\u001b[0m \u001b[0;34m=\u001b[0m \u001b[0mExactMarginalLogLikelihood\u001b[0m\u001b[0;34m(\u001b[0m\u001b[0mgp_model\u001b[0m\u001b[0;34m.\u001b[0m\u001b[0mlikelihood\u001b[0m\u001b[0;34m,\u001b[0m \u001b[0mgp_model\u001b[0m\u001b[0;34m)\u001b[0m\u001b[0;34m\u001b[0m\n",
       "\u001b[0;34m\u001b[0m    \u001b[0mfit_gpytorch_mll\u001b[0m\u001b[0;34m(\u001b[0m\u001b[0mmll\u001b[0m\u001b[0;34m)\u001b[0m\u001b[0;34m\u001b[0m\n",
       "\u001b[0;34m\u001b[0m    \u001b[0msampler\u001b[0m \u001b[0;34m=\u001b[0m \u001b[0mSobolQMCNormalSampler\u001b[0m\u001b[0;34m(\u001b[0m\u001b[0mtorch\u001b[0m\u001b[0;34m.\u001b[0m\u001b[0mSize\u001b[0m\u001b[0;34m(\u001b[0m\u001b[0;34m[\u001b[0m\u001b[0mq\u001b[0m\u001b[0;34m]\u001b[0m\u001b[0;34m)\u001b[0m\u001b[0;34m,\u001b[0m \u001b[0mseed\u001b[0m\u001b[0;34m=\u001b[0m\u001b[0mseed\u001b[0m\u001b[0;34m)\u001b[0m\u001b[0;34m\u001b[0m\n",
       "\u001b[0;34m\u001b[0m    \u001b[0mqlei\u001b[0m \u001b[0;34m=\u001b[0m \u001b[0mqLogExpectedImprovement\u001b[0m\u001b[0;34m(\u001b[0m\u001b[0;34m\u001b[0m\n",
       "\u001b[0;34m\u001b[0m        \u001b[0mmodel\u001b[0m\u001b[0;34m=\u001b[0m\u001b[0mgp_model\u001b[0m\u001b[0;34m,\u001b[0m\u001b[0;34m\u001b[0m\n",
       "\u001b[0;34m\u001b[0m        \u001b[0mbest_f\u001b[0m\u001b[0;34m=\u001b[0m\u001b[0my\u001b[0m\u001b[0;34m.\u001b[0m\u001b[0mmax\u001b[0m\u001b[0;34m(\u001b[0m\u001b[0;34m)\u001b[0m\u001b[0;34m,\u001b[0m\u001b[0;34m\u001b[0m\n",
       "\u001b[0;34m\u001b[0m        \u001b[0msampler\u001b[0m\u001b[0;34m=\u001b[0m\u001b[0msampler\u001b[0m\u001b[0;34m,\u001b[0m\u001b[0;34m\u001b[0m\n",
       "\u001b[0;34m\u001b[0m    \u001b[0;34m)\u001b[0m\u001b[0;34m\u001b[0m\n",
       "\u001b[0;34m\u001b[0m    \u001b[0mcandidates\u001b[0m\u001b[0;34m,\u001b[0m \u001b[0mjoint_acq\u001b[0m \u001b[0;34m=\u001b[0m \u001b[0moptimize_acqf\u001b[0m\u001b[0;34m(\u001b[0m\u001b[0;34m\u001b[0m\n",
       "\u001b[0;34m\u001b[0m        \u001b[0macq_function\u001b[0m\u001b[0;34m=\u001b[0m\u001b[0mqlei\u001b[0m\u001b[0;34m,\u001b[0m\u001b[0;34m\u001b[0m\n",
       "\u001b[0;34m\u001b[0m        \u001b[0mbounds\u001b[0m\u001b[0;34m=\u001b[0m\u001b[0mbounds_t\u001b[0m\u001b[0;34m,\u001b[0m\u001b[0;34m\u001b[0m\n",
       "\u001b[0;34m\u001b[0m        \u001b[0mq\u001b[0m\u001b[0;34m=\u001b[0m\u001b[0mq\u001b[0m\u001b[0;34m,\u001b[0m\u001b[0;34m\u001b[0m\n",
       "\u001b[0;34m\u001b[0m        \u001b[0mnum_restarts\u001b[0m\u001b[0;34m=\u001b[0m\u001b[0;36m2\u001b[0m\u001b[0;34m,\u001b[0m\u001b[0;34m\u001b[0m\n",
       "\u001b[0;34m\u001b[0m        \u001b[0mraw_samples\u001b[0m\u001b[0;34m=\u001b[0m\u001b[0;36m10\u001b[0m\u001b[0;34m,\u001b[0m\u001b[0;34m\u001b[0m\n",
       "\u001b[0;34m\u001b[0m        \u001b[0msequential\u001b[0m\u001b[0;34m=\u001b[0m\u001b[0;32mFalse\u001b[0m\u001b[0;34m,\u001b[0m\u001b[0;34m\u001b[0m\n",
       "\u001b[0;34m\u001b[0m    \u001b[0;34m)\u001b[0m\u001b[0;34m\u001b[0m\n",
       "\u001b[0;34m\u001b[0m    \u001b[0;32mreturn\u001b[0m \u001b[0mcandidates\u001b[0m\u001b[0;34m,\u001b[0m \u001b[0mfloat\u001b[0m\u001b[0;34m(\u001b[0m\u001b[0mjoint_acq\u001b[0m\u001b[0;34m)\u001b[0m\u001b[0;34m\u001b[0m\u001b[0;34m\u001b[0m\u001b[0m\n",
       "\u001b[0;31mFile:\u001b[0m      ~/repos/ljm176/BayesianMediaOpt/src/mediabo/optimisation.py\n",
       "\u001b[0;31mType:\u001b[0m      function"
      ]
     },
     "metadata": {},
     "output_type": "display_data"
    }
   ],
   "source": [
    "get_next_batch_of_designs??"
   ]
  },
  {
   "cell_type": "markdown",
   "id": "b646710d",
   "metadata": {
    "jupyter": {
     "source_hidden": false
    }
   },
   "source": [
    "## Hardcoding\n",
    "\n",
    "This cell has some hard coded variables that are used to set up the problem or for reference."
   ]
  },
  {
   "cell_type": "code",
   "execution_count": 3,
   "id": "1687a0f1",
   "metadata": {
    "collapsed": false,
    "jupyter": {
     "outputs_hidden": false,
     "source_hidden": false
    }
   },
   "outputs": [
    {
     "data": {
      "text/plain": [
       "<torch._C.Generator at 0x10c386370>"
      ]
     },
     "execution_count": 3,
     "metadata": {},
     "output_type": "execute_result"
    }
   ],
   "source": [
    "# labels\n",
    "MEDIA = [\n",
    "    \"FeSO4\",\n",
    "    \"K2HPO4\",\n",
    "    \"NH4Cl\",\n",
    "    \"CaCl2\",\n",
    "    \"NaCl\",\n",
    "    \"Na2SO4\",\n",
    "]\n",
    "\n",
    "# boundaries\n",
    "BOUNDS = [[0.0] * len(MEDIA), [1.0] * len(MEDIA)]\n",
    "\n",
    "# shapes\n",
    "Q = 12\n",
    "D = len(MEDIA)\n",
    "\n",
    "# see https://botorch.org/api/_modules/botorch/test_functions/synthetic.html#Hartmann\n",
    "TRUE_ARGOPTIMUM = (0.20169, 0.150011, 0.476874, 0.275332, 0.311652, 0.6573)\n",
    "TRUE_OPTIMUM = 3.32237\n",
    "\n",
    "# Fix random seed\n",
    "SEED = 12345\n",
    "torch.manual_seed(seed=SEED)"
   ]
  },
  {
   "cell_type": "markdown",
   "id": "e6f15a17",
   "metadata": {
    "jupyter": {
     "source_hidden": false
    }
   },
   "source": [
    "## Simulation experiment\n",
    "\n",
    "To illustrate how to use this function and test whether it actually works we can use a known target function to generate a dataset and try to find its true optimum.\n",
    "\n",
    "The [Hartmann function](https://www.sfu.ca/~ssurjano/hart6.html) is a good choice. It has the right dimensionality and boundaries, and is suitably tricky, with 6 local optima that could potentially trap a bad algorithm.\n",
    "\n",
    "The next cell instantiates this function and shows its true values when component 2 is varied across the possible range from zero to one, holding all other components constant at 0.1. "
   ]
  },
  {
   "cell_type": "code",
   "execution_count": 4,
   "id": "9796b818",
   "metadata": {
    "collapsed": false,
    "jupyter": {
     "outputs_hidden": false,
     "source_hidden": false
    }
   },
   "outputs": [
    {
     "data": {
      "text/plain": [
       "[Text(0.5, 0, 'mixture[2]'), Text(0, 0.5, 'KPI')]"
      ]
     },
     "execution_count": 4,
     "metadata": {},
     "output_type": "execute_result"
    },
    {
     "data": {
      "image/png": "[encoded data removed]",
      "text/plain": [
       "<Figure size 1000x500 with 1 Axes>"
      ]
     },
     "metadata": {},
     "output_type": "display_data"
    }
   ],
   "source": [
    "tuple_bounds = [(a, b) for a, b in list(zip(BOUNDS[0], BOUNDS[1]))]\n",
    "truth = Hartmann(dim=D, bounds=tuple_bounds, negate=True, noise_std=0.05)\n",
    "\n",
    "x = np.linspace(0, 1, 30)\n",
    "kpis = []\n",
    "for xi in x:\n",
    "    mixture = torch.Tensor([0.1] * 6)\n",
    "    mixture[2] = xi\n",
    "    kpis.append(truth.forward(mixture, noise=False))\n",
    "    \n",
    "f, ax = plt.subplots(figsize=[10, 5])\n",
    "ax.plot(x, kpis)\n",
    "ax.set(xlabel=\"mixture[2]\", ylabel=\"KPI\")"
   ]
  },
  {
   "cell_type": "markdown",
   "id": "86fe7c81",
   "metadata": {
    "jupyter": {
     "source_hidden": false
    }
   },
   "source": [
    "To start with we need to choose a first set of experiments.\n",
    "\n",
    "For this we use Sobol sampling to choose a set of more or less evenly spaced designs from across the search space."
   ]
  },
  {
   "cell_type": "code",
   "execution_count": 5,
   "id": "44dc113e",
   "metadata": {
    "collapsed": false,
    "jupyter": {
     "outputs_hidden": false,
     "source_hidden": false
    }
   },
   "outputs": [
    {
     "data": {
      "text/plain": [
       "tensor([[0.5903, 0.4354, 0.5665, 0.7906, 0.9171, 0.8489],\n",
       "        [0.6098, 0.5111, 0.3035, 0.9932, 0.9701, 0.0539],\n",
       "        [0.8316, 0.4975, 0.8129, 0.6785, 0.0591, 0.5980],\n",
       "        [0.6027, 0.7184, 0.7107, 0.5071, 0.3685, 0.3253],\n",
       "        [0.1681, 0.3371, 0.6321, 0.5505, 0.4481, 0.8452],\n",
       "        [0.0032, 0.5110, 0.1705, 0.2361, 0.8953, 0.2370],\n",
       "        [0.9211, 0.2836, 0.4373, 0.7805, 0.7267, 0.3063],\n",
       "        [0.7410, 0.6607, 0.0122, 0.8449, 0.3540, 0.0141],\n",
       "        [0.2956, 0.9570, 0.9429, 0.1592, 0.3147, 0.8867],\n",
       "        [0.7367, 0.4789, 0.5669, 0.2285, 0.7859, 0.3768],\n",
       "        [0.0929, 0.2781, 0.1957, 0.1672, 0.0349, 0.6260],\n",
       "        [0.9392, 0.3833, 0.5661, 0.6740, 0.2096, 0.4533]])"
      ]
     },
     "execution_count": 5,
     "metadata": {},
     "output_type": "execute_result"
    }
   ],
   "source": [
    "bounds_t = torch.Tensor(BOUNDS)\n",
    "first_x = draw_sobol_samples(\n",
    "    bounds=bounds_t,\n",
    "    q=Q,\n",
    "    n=1,\n",
    "    seed=SEED,\n",
    ").squeeze(0)\n",
    "first_x"
   ]
  },
  {
   "cell_type": "code",
   "execution_count": 6,
   "id": "e9e5874c-65e0-48d8-abe7-84e33020554d",
   "metadata": {},
   "outputs": [
    {
     "data": {
      "text/plain": [
       "\u001b[0;31mSignature:\u001b[0m \u001b[0mtruth\u001b[0m\u001b[0;34m.\u001b[0m\u001b[0mforward\u001b[0m\u001b[0;34m(\u001b[0m\u001b[0mX\u001b[0m\u001b[0;34m:\u001b[0m \u001b[0;34m'Tensor'\u001b[0m\u001b[0;34m,\u001b[0m \u001b[0mnoise\u001b[0m\u001b[0;34m:\u001b[0m \u001b[0;34m'bool'\u001b[0m \u001b[0;34m=\u001b[0m \u001b[0;32mTrue\u001b[0m\u001b[0;34m)\u001b[0m \u001b[0;34m->\u001b[0m \u001b[0;34m'Tensor'\u001b[0m\u001b[0;34m\u001b[0m\u001b[0;34m\u001b[0m\u001b[0m\n",
       "\u001b[0;31mDocstring:\u001b[0m\n",
       "Evaluate the function on a set of points.\n",
       "\n",
       "Args:\n",
       "    X: A `(batch_shape) x d`-dim tensor of point(s) at which to evaluate\n",
       "        the function.\n",
       "    noise: If `True`, add observation noise as specified by `noise_std`.\n",
       "\n",
       "Returns:\n",
       "    A `batch_shape`-dim tensor ouf function evaluations.\n",
       "\u001b[0;31mFile:\u001b[0m      ~/repos/ljm176/BayesianMediaOpt/.venv/lib/python3.12/site-packages/botorch/test_functions/base.py\n",
       "\u001b[0;31mType:\u001b[0m      method"
      ]
     },
     "metadata": {},
     "output_type": "display_data"
    }
   ],
   "source": [
    "truth.forward?"
   ]
  },
  {
   "cell_type": "markdown",
   "id": "4350d7c0",
   "metadata": {
    "collapsed": false,
    "jupyter": {
     "outputs_hidden": false,
     "source_hidden": false
    }
   },
   "source": [
    "Now we can run the main loop"
   ]
  },
  {
   "cell_type": "code",
   "execution_count": 7,
   "id": "7cb22569",
   "metadata": {
    "collapsed": false,
    "jupyter": {
     "outputs_hidden": false,
     "source_hidden": false
    }
   },
   "outputs": [
    {
     "name": "stderr",
     "output_type": "stream",
     "text": [
      "  0%|                                                               | 0/2 [00:00<?, ?it/s]"
     ]
    },
    {
     "name": "stdout",
     "output_type": "stream",
     "text": [
      "torch.Size([12, 1])\n"
     ]
    },
    {
     "name": "stderr",
     "output_type": "stream",
     "text": [
      "Best after round 0: 0.9412739014575974:  50%|███████▌       | 1/2 [00:01<00:01,  1.03s/it]"
     ]
    },
    {
     "name": "stdout",
     "output_type": "stream",
     "text": [
      "torch.Size([24, 1])\n"
     ]
    },
    {
     "name": "stderr",
     "output_type": "stream",
     "text": [
      "Best after round 1: 1.3201683819979364: 100%|███████████████| 2/2 [00:01<00:00,  1.22it/s]\n"
     ]
    },
    {
     "data": {
      "text/plain": [
       "tensor([[5.9030e-01, 4.3545e-01, 5.6645e-01, 7.9057e-01, 9.1715e-01, 8.4893e-01],\n",
       "        [6.0983e-01, 5.1112e-01, 3.0345e-01, 9.9323e-01, 9.7008e-01, 5.3929e-02],\n",
       "        [8.3163e-01, 4.9751e-01, 8.1286e-01, 6.7851e-01, 5.9145e-02, 5.9800e-01],\n",
       "        [6.0266e-01, 7.1835e-01, 7.1067e-01, 5.0712e-01, 3.6850e-01, 3.2526e-01],\n",
       "        [1.6809e-01, 3.3709e-01, 6.3206e-01, 5.5046e-01, 4.4806e-01, 8.4521e-01],\n",
       "        [3.2100e-03, 5.1101e-01, 1.7051e-01, 2.3614e-01, 8.9526e-01, 2.3698e-01],\n",
       "        [9.2113e-01, 2.8365e-01, 4.3730e-01, 7.8053e-01, 7.2671e-01, 3.0631e-01],\n",
       "        [7.4104e-01, 6.6066e-01, 1.2165e-02, 8.4489e-01, 3.5401e-01, 1.4141e-02],\n",
       "        [2.9562e-01, 9.5699e-01, 9.4287e-01, 1.5922e-01, 3.1469e-01, 8.8669e-01],\n",
       "        [7.3671e-01, 4.7894e-01, 5.6686e-01, 2.2850e-01, 7.8591e-01, 3.7679e-01],\n",
       "        [9.2947e-02, 2.7814e-01, 1.9567e-01, 1.6723e-01, 3.4878e-02, 6.2603e-01],\n",
       "        [9.3919e-01, 3.8326e-01, 5.6611e-01, 6.7403e-01, 2.0959e-01, 4.5326e-01],\n",
       "        [7.1684e-02, 2.4464e-01, 6.5665e-01, 1.0000e+00, 8.7796e-01, 7.4277e-01],\n",
       "        [1.5041e-01, 3.5236e-01, 6.3304e-01, 5.3818e-01, 3.5343e-01, 8.2303e-01],\n",
       "        [7.5329e-01, 8.5599e-01, 1.0000e+00, 3.1057e-01, 0.0000e+00, 3.9810e-01],\n",
       "        [6.8889e-02, 3.2855e-01, 6.8652e-01, 4.0211e-01, 9.1304e-04, 1.0000e+00],\n",
       "        [1.5039e-01, 3.5233e-01, 6.3311e-01, 5.3797e-01, 3.5347e-01, 8.2309e-01],\n",
       "        [1.7963e-01, 3.6043e-01, 4.9651e-01, 8.0022e-01, 3.3224e-01, 7.9434e-01],\n",
       "        [7.4365e-02, 3.0453e-01, 1.2380e-01, 7.8638e-02, 1.2932e-01, 6.2190e-01],\n",
       "        [8.8149e-01, 2.8892e-02, 7.9315e-01, 9.2261e-01, 9.2798e-01, 1.6498e-01],\n",
       "        [1.4219e-01, 2.8379e-01, 3.3369e-01, 7.2146e-01, 1.0000e+00, 1.0000e+00],\n",
       "        [1.7897e-01, 2.7865e-01, 6.9738e-01, 4.8996e-01, 0.0000e+00, 7.3196e-01],\n",
       "        [1.5643e-01, 2.5477e-01, 9.7423e-01, 0.0000e+00, 1.5666e-01, 7.2070e-01],\n",
       "        [2.7843e-01, 7.8419e-01, 7.8595e-01, 5.4180e-01, 8.9000e-01, 3.5313e-01],\n",
       "        [3.5667e-01, 4.7722e-01, 4.7782e-01, 4.7327e-01, 3.8758e-01, 1.0000e+00],\n",
       "        [3.1218e-01, 2.0961e-01, 5.6000e-01, 5.4433e-01, 2.5185e-01, 1.0000e+00],\n",
       "        [2.7505e-01, 3.7000e-01, 7.0482e-01, 4.3049e-01, 3.1879e-01, 4.1991e-01],\n",
       "        [1.9859e-01, 3.7848e-01, 9.9990e-01, 2.4673e-01, 2.4003e-01, 8.2080e-01],\n",
       "        [9.4948e-04, 3.4810e-01, 8.5628e-01, 3.5004e-01, 2.7662e-01, 9.9983e-01],\n",
       "        [9.7811e-04, 3.4813e-01, 8.5624e-01, 3.5005e-01, 2.7660e-01, 9.9994e-01],\n",
       "        [0.0000e+00, 3.6641e-01, 1.0000e+00, 3.6239e-01, 3.1810e-01, 4.0332e-01],\n",
       "        [6.7041e-01, 1.9185e-01, 7.0470e-01, 9.7865e-01, 7.8960e-01, 1.8269e-01],\n",
       "        [0.0000e+00, 5.2410e-01, 1.0000e+00, 4.6772e-01, 2.6347e-01, 1.0000e+00],\n",
       "        [0.0000e+00, 3.0269e-01, 4.2267e-01, 3.3520e-01, 2.9660e-01, 8.4431e-01],\n",
       "        [3.0503e-02, 4.1736e-01, 1.3155e-01, 3.7884e-01, 2.6549e-01, 1.0000e+00],\n",
       "        [2.7843e-01, 7.8419e-01, 7.8595e-01, 5.4180e-01, 8.9000e-01, 3.5313e-01]])"
      ]
     },
     "execution_count": 7,
     "metadata": {},
     "output_type": "execute_result"
    }
   ],
   "source": [
    "rounds = 2\n",
    "x = first_x\n",
    "y = torch.Tensor([])\n",
    "best = []\n",
    "pbar = tqdm(range(rounds))\n",
    "next_x = first_x\n",
    "\n",
    "for r in pbar:\n",
    "    \n",
    "    next_y = truth.forward(next_x, noise=True).unsqueeze(-1)\n",
    "    y = torch.concat([y, next_y])\n",
    "    print(y.shape)\n",
    "    next_x, lei = get_next_batch_of_designs(\n",
    "        x=x,\n",
    "        y=y,\n",
    "        bounds=BOUNDS,\n",
    "        q=Q,\n",
    "        seed=SEED,\n",
    "    )\n",
    "\n",
    "    best_so_far = float(y.max())\n",
    "    msg = f\"Best after round {r}: \" + str(best_so_far)\n",
    "    pbar.set_description(msg)\n",
    "    best.append([r, best_so_far])\n",
    "    x = torch.concat([x, next_x])\n",
    "x"
   ]
  },
  {
   "cell_type": "code",
   "execution_count": 8,
   "id": "f334830e",
   "metadata": {
    "collapsed": false,
    "jupyter": {
     "outputs_hidden": false,
     "source_hidden": false
    }
   },
   "outputs": [
    {
     "data": {
      "text/plain": [
       "<matplotlib.legend.Legend at 0x138a87a70>"
      ]
     },
     "execution_count": 8,
     "metadata": {},
     "output_type": "execute_result"
    },
    {
     "data": {
      "image/png": "[encoded data removed]",
      "text/plain": [
       "<Figure size 1000x500 with 1 Axes>"
      ]
     },
     "metadata": {},
     "output_type": "display_data"
    }
   ],
   "source": [
    "best = pd.DataFrame(best, columns=[\"round\", \"best\"])\n",
    "f, ax = plt.subplots(figsize=[10, 5])\n",
    "ax.plot(best[\"round\"], best[\"best\"])\n",
    "ax.set(xlabel=\"Round\", ylabel=\"Best KPI so far\")\n",
    "ax.axhline(TRUE_OPTIMUM, linestyle=\"--\", label=\"True optimum\")\n",
    "ax.legend(frameon=False)"
   ]
  },
  {
   "cell_type": "code",
   "execution_count": null,
   "id": "cc0b775b-6845-4456-838a-a8f13b7d5103",
   "metadata": {},
   "outputs": [],
   "source": []
  },
  {
   "cell_type": "code",
   "execution_count": 9,
   "id": "0fed56d8",
   "metadata": {
    "collapsed": false,
    "jupyter": {
     "outputs_hidden": false
    }
   },
   "outputs": [
    {
     "data": {
      "text/plain": [
       "torch.Size([24, 1])"
      ]
     },
     "execution_count": 9,
     "metadata": {},
     "output_type": "execute_result"
    }
   ],
   "source": [
    "y.shape"
   ]
  }
 ],
 "metadata": {
  "kernelspec": {
   "display_name": "bmo",
   "language": "python",
   "name": "bmo"
  },
  "language_info": {
   "codemirror_mode": {
    "name": "ipython",
    "version": 3
   },
   "file_extension": ".py",
   "mimetype": "text/x-python",
   "name": "python",
   "nbconvert_exporter": "python",
   "pygments_lexer": "ipython3",
   "version": "3.12.1"
  },
  "widgets": {
   "application/vnd.jupyter.widget-state+json": {
    "state": {},
    "version_major": 2,
    "version_minor": 0
   }
  }
 },
 "nbformat": 4,
 "nbformat_minor": 5
}
